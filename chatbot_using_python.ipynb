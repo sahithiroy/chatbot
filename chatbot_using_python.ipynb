{
  "nbformat": 4,
  "nbformat_minor": 0,
  "metadata": {
    "colab": {
      "provenance": []
    },
    "kernelspec": {
      "name": "python3",
      "display_name": "Python 3"
    },
    "language_info": {
      "name": "python"
    }
  },
  "cells": [
    {
      "cell_type": "markdown",
      "source": [
        "Import the libraries"
      ],
      "metadata": {
        "id": "HRuHb8JLUlle"
      }
    },
    {
      "cell_type": "code",
      "execution_count": null,
      "metadata": {
        "id": "G48ft_p9UXup"
      },
      "outputs": [],
      "source": [
        "import nltk\n",
        "import string\n",
        "import numpy as np\n",
        "import random"
      ]
    },
    {
      "cell_type": "markdown",
      "source": [
        "Import reading the corpus"
      ],
      "metadata": {
        "id": "v4JwOG4WUugS"
      }
    },
    {
      "cell_type": "code",
      "source": [
        "f=open('chatbot.txt','r',errors='ignore')"
      ],
      "metadata": {
        "id": "0nquw4gwUgGg"
      },
      "execution_count": null,
      "outputs": []
    },
    {
      "cell_type": "code",
      "source": [
        "raw=f.read()"
      ],
      "metadata": {
        "id": "zKg6NbJ8VMNg"
      },
      "execution_count": null,
      "outputs": []
    },
    {
      "cell_type": "code",
      "source": [
        "raw=raw.lower()"
      ],
      "metadata": {
        "id": "GG3f4K9aWWNC"
      },
      "execution_count": null,
      "outputs": []
    },
    {
      "cell_type": "code",
      "source": [
        "nltk.download('punkt')\n",
        "nltk.download('wordnet')"
      ],
      "metadata": {
        "colab": {
          "base_uri": "https://localhost:8080/"
        },
        "id": "clLWNqZ5WYJO",
        "outputId": "fd35d3b0-2256-4072-e24c-9e496b730a59"
      },
      "execution_count": null,
      "outputs": [
        {
          "output_type": "stream",
          "name": "stderr",
          "text": [
            "[nltk_data] Downloading package punkt to /root/nltk_data...\n",
            "[nltk_data]   Unzipping tokenizers/punkt.zip.\n",
            "[nltk_data] Downloading package wordnet to /root/nltk_data...\n"
          ]
        },
        {
          "output_type": "execute_result",
          "data": {
            "text/plain": [
              "True"
            ]
          },
          "metadata": {},
          "execution_count": 6
        }
      ]
    },
    {
      "cell_type": "code",
      "source": [
        "sent_token=nltk.sent_tokenize(raw)\n",
        "word_token=nltk.word_tokenize(raw)"
      ],
      "metadata": {
        "id": "9HhZoEogWhoS"
      },
      "execution_count": null,
      "outputs": []
    },
    {
      "cell_type": "code",
      "source": [
        "sent_token[:2]"
      ],
      "metadata": {
        "colab": {
          "base_uri": "https://localhost:8080/"
        },
        "id": "xSKhlqi0WxsJ",
        "outputId": "85faac9a-5ee7-458c-cb9f-c2f13b64deb0"
      },
      "execution_count": null,
      "outputs": [
        {
          "output_type": "execute_result",
          "data": {
            "text/plain": [
              "['data science is an interdisciplinary academic field [1] that uses statistics, scientific computing, scientific methods, processes, algorithms and systems to extract or extrapolate knowledge and insights from noisy, structured, and unstructured data.',\n",
              " '[2]\\n\\ndata science also integrates domain knowledge from the underlying application domain (e.g., natural sciences, information technology, and medicine).']"
            ]
          },
          "metadata": {},
          "execution_count": 9
        }
      ]
    },
    {
      "cell_type": "code",
      "source": [
        "word_token[:2]"
      ],
      "metadata": {
        "colab": {
          "base_uri": "https://localhost:8080/"
        },
        "id": "ut3kKYudXOY8",
        "outputId": "9fcb94b5-c67f-478f-ab7e-753108b948b7"
      },
      "execution_count": null,
      "outputs": [
        {
          "output_type": "execute_result",
          "data": {
            "text/plain": [
              "['data', 'science']"
            ]
          },
          "metadata": {},
          "execution_count": 10
        }
      ]
    },
    {
      "cell_type": "markdown",
      "source": [
        "Text Preprocessig"
      ],
      "metadata": {
        "id": "qD4clBOoXYEi"
      }
    },
    {
      "cell_type": "code",
      "source": [
        "lemmer=nltk.stem.WordNetLemmatizer()"
      ],
      "metadata": {
        "id": "RIL3yLkDXTYI"
      },
      "execution_count": null,
      "outputs": []
    },
    {
      "cell_type": "code",
      "source": [
        "def lemtokens(tokens):\n",
        "  return [lemmer.lemmatize(token) for token in tokens]\n",
        "removepunct_dict=dict((ord(punct),None) for punct in string.punctuation)\n",
        "def LemNormalize(text):\n",
        "  return lemtokens(nltk.word_tokenize(text.lower().translate(removepunct_dict)))\n"
      ],
      "metadata": {
        "id": "v0gH01LcYPRE"
      },
      "execution_count": null,
      "outputs": []
    },
    {
      "cell_type": "code",
      "source": [
        "GREET_INPUT={'heelo','hi','greetings','sup','whatsup','hey'}\n",
        "GREET_OUTPUT={'hi','hey','nods','iam glad!you are talking to me'}\n",
        "def greet(sentence):\n",
        "\n",
        "  for word in sentence.split():\n",
        "    if word.lower() in GREET_INPUT:\n",
        "      return random.choice(GREET_OUTPUT)\n"
      ],
      "metadata": {
        "id": "qABCmN9qbd0q"
      },
      "execution_count": null,
      "outputs": []
    },
    {
      "cell_type": "markdown",
      "source": [
        "RESPONSE GENRATION"
      ],
      "metadata": {
        "id": "tmv0hlvAcyBd"
      }
    },
    {
      "cell_type": "code",
      "source": [
        "from sklearn.feature_extraction.text import TfidfVectorizer\n",
        "from sklearn.metrics.pairwise import cosine_similarity"
      ],
      "metadata": {
        "id": "rhzmWo1ucxjA"
      },
      "execution_count": null,
      "outputs": []
    },
    {
      "cell_type": "code",
      "source": [
        "nltk.download('stopwords')"
      ],
      "metadata": {
        "colab": {
          "base_uri": "https://localhost:8080/"
        },
        "id": "uuYRD4dTkdu5",
        "outputId": "44bbef69-14ee-453d-b9fe-24a9b045847f"
      },
      "execution_count": null,
      "outputs": [
        {
          "output_type": "stream",
          "name": "stderr",
          "text": [
            "[nltk_data] Downloading package stopwords to /root/nltk_data...\n",
            "[nltk_data]   Unzipping corpora/stopwords.zip.\n"
          ]
        },
        {
          "output_type": "execute_result",
          "data": {
            "text/plain": [
              "True"
            ]
          },
          "metadata": {},
          "execution_count": 29
        }
      ]
    },
    {
      "cell_type": "code",
      "source": [
        "def response(user_response):\n",
        "  robo_response=''\n",
        "  Tfidvec=TfidfVectorizer(tokenizer=LemNormalize,stop_words='english')\n",
        "  tfidf=Tfidvec.fit_transform(sent_token)\n",
        "  vals=cosine_similarity(tfidf[-1],tfidf)\n",
        "  idx=vals.argsort()[0][-2]\n",
        "  flat=vals.flatten()\n",
        "  flat.sort()\n",
        "  req_tfidf=flat[-2]\n",
        "  if (req_tfidf==0):\n",
        "    robo_response=robo_response+\"Iam Sory I don't understand you\"\n",
        "    return robo_response\n",
        "  else:\n",
        "    robo_response=robo_response+sent_token[idx]\n",
        "    return robo_response\n",
        "\n",
        "\n",
        "\n"
      ],
      "metadata": {
        "id": "RrnfbUuYdObi"
      },
      "execution_count": null,
      "outputs": []
    },
    {
      "cell_type": "markdown",
      "source": [
        "Defining conversation start/end protocols"
      ],
      "metadata": {
        "id": "0nDNSSd0f4Pt"
      }
    },
    {
      "cell_type": "code",
      "source": [
        "flag=True\n",
        "print(\"BOT:MY name is honey.let's have conversation ! Also ,if u want to exist anytime,just type ye\")\n",
        "while flag==True:\n",
        "  user_response=input()\n",
        "  user_response=user_response.lower()\n",
        "  if (user_response!='Bye'):\n",
        "    if (user_response=='thanks' or user_response=='thank you'):\n",
        "      flag=False\n",
        "      print(\"Bot:You are welcome\")\n",
        "    else:\n",
        "\n",
        "      if greet(user_response)!=None:\n",
        "\n",
        "        print(\"Bot\"+greet(user_response))\n",
        "      else:\n",
        "        sent_token.append(user_response)\n",
        "        word_token=word_token+nltk.word_tokenize(user_response)\n",
        "        final_words=list(set(word_token))\n",
        "        print(\"Bot:\",end=\"\")\n",
        "        print(response(user_response))\n",
        "        sent_token.remove(user_response)\n",
        "\n",
        "\n",
        "  else:\n",
        "    flag=False\n",
        "    print(\"Bot:GoodBye!Take Care<3\")\n",
        "\n",
        "\n",
        "\n"
      ],
      "metadata": {
        "colab": {
          "base_uri": "https://localhost:8080/"
        },
        "id": "78aoHT4UetZx",
        "outputId": "14d44744-bcd5-4047-901c-a1e84f4878d8"
      },
      "execution_count": null,
      "outputs": [
        {
          "output_type": "stream",
          "name": "stdout",
          "text": [
            "BOT:MY name is honey.let's have conversation ! Also ,if u want to exist anytime,just type ye\n",
            "Bye\n",
            "Bot:"
          ]
        },
        {
          "output_type": "stream",
          "name": "stderr",
          "text": [
            "/usr/local/lib/python3.10/dist-packages/sklearn/feature_extraction/text.py:528: UserWarning: The parameter 'token_pattern' will not be used since 'tokenizer' is not None'\n",
            "  warnings.warn(\n",
            "/usr/local/lib/python3.10/dist-packages/sklearn/feature_extraction/text.py:409: UserWarning: Your stop_words may be inconsistent with your preprocessing. Tokenizing the stop words generated tokens ['ha', 'le', 'u', 'wa'] not in stop_words.\n",
            "  warnings.warn(\n"
          ]
        },
        {
          "output_type": "stream",
          "name": "stdout",
          "text": [
            "bye\n",
            "foundations\n",
            "Bot:both fields require a solid foundation in statistics, programming, and data visualization, as well as the ability to communicate findings effectively to both technical and non-technical audiences.\n",
            "Thanks\n",
            "Bot:You are welcome\n"
          ]
        }
      ]
    },
    {
      "cell_type": "code",
      "source": [],
      "metadata": {
        "id": "Wpv0BQ-qiTp7"
      },
      "execution_count": null,
      "outputs": []
    }
  ]
}